{
 "cells": [
  {
   "cell_type": "markdown",
   "metadata": {
    "slideshow": {
     "slide_type": "slide"
    }
   },
   "source": [
    "\n",
    "# Testing different ways of multiplying matices in Python"
   ]
  },
  {
   "cell_type": "markdown",
   "metadata": {
    "slideshow": {
     "slide_type": "subslide"
    }
   },
   "source": [
    "## Introduction\n",
    "Python's time module provides various time-related functions. We are going to utilize it in order to calculate how long does it take to perform operations.\n",
    "In this Homework, we will cover:\n",
    "\n",
    "- The CUDA programming model\n",
    "- Accelerating numerical python code with `numba`\n",
    "- Implementing CUDA kernels in python\n",
    "- Thread synchronization\n",
    "- Shared memory"
   ]
  },
  {
   "cell_type": "code",
   "execution_count": 1,
   "metadata": {
    "slideshow": {
     "slide_type": "subslide"
    }
   },
   "outputs": [],
   "source": [
    "# Setup\n",
    "%matplotlib inline\n",
    "import os\n",
    "import sys\n",
    "import math\n",
    "import time\n",
    "import tqdm\n",
    "import torch\n",
    "import numpy as np\n",
    "import matplotlib.pyplot as plt\n",
    "import utils"
   ]
  },
  {
   "cell_type": "code",
   "execution_count": 2,
   "metadata": {
    "slideshow": {
     "slide_type": "fragment"
    }
   },
   "outputs": [
    {
     "name": "stdout",
     "output_type": "stream",
     "text": [
      "Using device=cuda\n"
     ]
    }
   ],
   "source": [
    "plt.rcParams['font.size'] = 20\n",
    "data_dir = os.path.expanduser('~/.pytorch-datasets')\n",
    "device = torch.device('cuda' if torch.cuda.is_available() else 'cpu')\n",
    "\n",
    "if device.type != \"cuda\":\n",
    "    raise RuntimeError(\"This tutorial requires a GPU!\")\n",
    "\n",
    "print(f\"Using {device=!s}\")"
   ]
  },
  {
   "cell_type": "markdown",
   "metadata": {
    "slideshow": {
     "slide_type": "subslide"
    }
   },
   "source": [
    "### Kernel \"Geometry\""
   ]
  },
  {
   "cell_type": "markdown",
   "metadata": {
    "slideshow": {
     "slide_type": "subslide"
    }
   },
   "source": [
    "### Key idea of CUDA\n",
    "\n",
    "- Write a single-threaded program with the **thread id** as a parameter.\n",
    "- Use thread id to select a subset of data to process.\n",
    "- Launch many threads, so that together they cover the entire range of input data.\n",
    "- Code automatically scales to all available physical processors. "
   ]
  },
  {
   "cell_type": "markdown",
   "metadata": {
    "slideshow": {
     "slide_type": "subslide"
    }
   },
   "source": [
    "<div>\n",
    "\n",
    "<left>\n",
    "<h3> Shared memory <h3/>\n",
    "- Shared between threads in the same thread block\n",
    "<br/>\n",
    "- Used for collaboration between threads in the same block\n",
    "<br/>\n",
    "- On chip $\\rightarrow$ very fast\n",
    "<br/>\n",
    "- Persisted until end of block\n",
    "<br/>\n",
    "<br/>\n",
    "    \n",
    "</left>\n",
    "\n",
    "<right>\n",
    "    \n",
    "<h3> Global memory <h3/>\n",
    "- Can be accessed by any thread in any thread block\n",
    "    <br/>\n",
    "- Used to copy to/from host\n",
    "    <br/>\n",
    "- Located in DRAM $\\rightarrow$ slow\n",
    "    <br/>\n",
    "- Persisted for the life of the application\n",
    "    <br/>\n",
    "    <br/>\n",
    "\n",
    "</right>\n",
    "    \n",
    "</div>    "
   ]
  },
  {
   "cell_type": "code",
   "execution_count": 17,
   "metadata": {},
   "outputs": [
    {
     "data": {
      "image/png": "https://github.com/Muhammad-Dah/Matrix-Multiplication/blob/main/img/mem_global.png?raw=true",
      "text/plain": [
       "<Figure size 864x576 with 1 Axes>"
      ]
     },
     "metadata": {
      "needs_background": "light"
     },
     "output_type": "display_data"
    }
   ],
   "source": [
    "    \n",
    "plt_results(N_choices, cpu_times, numpy_times, cuda_naive_times, cuda_fast_times, to_scale = 'µs')\n"
   ]
  },
  {
   "cell_type": "markdown",
   "metadata": {},
   "source": [
    "## Summary"
   ]
  },
  {
   "cell_type": "markdown",
   "metadata": {
    "slideshow": {
     "slide_type": "subslide"
    }
   },
   "source": [
    "## Heuristics for Kernel sizes"
   ]
  },
  {
   "cell_type": "markdown",
   "metadata": {
    "slideshow": {
     "slide_type": "fragment"
    }
   },
   "source": [
    "How many blocks?\n",
    "- Should occupy every SM $\\rightarrow$ At least one block per SM\n",
    "- Should have something to run on SM if current block is waiting (e.g. sync) $\\rightarrow$ At least two blocks per SM\n",
    "- Should scale with same code if we upgrade hardware $\\rightarrow$ Many blocks per SM!"
   ]
  },
  {
   "cell_type": "markdown",
   "metadata": {
    "slideshow": {
     "slide_type": "fragment"
    }
   },
   "source": [
    "How many threads?\n",
    "- Many threads $\\rightarrow$ hides global memory latency\n",
    "- Too many threads $\\rightarrow$ exhaust registers and shared memory\n",
    "- Should be a multiple of warp size\n",
    "- Typical selection: 64 to 512 per block"
   ]
  },
  {
   "cell_type": "markdown",
   "metadata": {
    "slideshow": {
     "slide_type": "slide"
    }
   },
   "source": [
    "## Implementing CUDA Kernels with `numba`"
   ]
  },
  {
   "cell_type": "markdown",
   "metadata": {
    "slideshow": {
     "slide_type": "subslide"
    }
   },
   "source": [
    "### What is `numba`?\n",
    "\n",
    "Numba is a **just-in-time** (JIT) **function compiler**, focused on **numerical python**.\n",
    "It can be used to accelerate python code by generating efficient, **type-specialized** machine code.\n",
    "Numba supports all major OSes and a wide range of hardware (Intel x86/64, NVIDIA CUDA, ARM).\n",
    "It's developed and actively maintained by Anaconda Inc., and considered production ready.\n"
   ]
  },
  {
   "cell_type": "markdown",
   "metadata": {
    "slideshow": {
     "slide_type": "subslide"
    }
   },
   "source": [
    "### First steps with `numba` on the GPU"
   ]
  },
  {
   "cell_type": "code",
   "execution_count": 3,
   "metadata": {
    "slideshow": {
     "slide_type": "fragment"
    }
   },
   "outputs": [
    {
     "name": "stdout",
     "output_type": "stream",
     "text": [
      "Found 1 CUDA devices\n",
      "id 0             b'TITAN Xp'                              [SUPPORTED]\n",
      "                      compute capability: 6.1\n",
      "                           pci device id: 0\n",
      "                              pci bus id: 7\n",
      "Summary:\n",
      "\t1/1 devices are supported\n"
     ]
    },
    {
     "data": {
      "text/plain": [
       "True"
      ]
     },
     "execution_count": 3,
     "metadata": {},
     "output_type": "execute_result"
    }
   ],
   "source": [
    "import numpy as np\n",
    "import numba\n",
    "from numba import cuda\n",
    "\n",
    "# Show GPUs on the machine\n",
    "cuda.detect()"
   ]
  },
  {
   "cell_type": "markdown",
   "metadata": {},
   "source": [
    "# multiplication accumulation : D = AxB + C"
   ]
  },
  {
   "cell_type": "markdown",
   "metadata": {},
   "source": [
    "### CPU implementation\n",
    "#### Pure Python implementation \n",
    "Our implementation will be purely based on Python. We will not use any external libraries. We need three loops here. The first loop is for all rows in first matrix, 2nd one is for all columns in second matrix and 3rd one is for all values within each value in the i row and j column of matrices a and b respectively. We need to multiply each elements of i row and j column together and finally sum the values. The final sum is the value for D[i, j].\n",
    "\n"
   ]
  },
  {
   "cell_type": "code",
   "execution_count": 4,
   "metadata": {},
   "outputs": [],
   "source": [
    "\n",
    "\n",
    "def cpu_matmul_add(A, B, C, D):\n",
    "    N = A.shape[0]\n",
    "    for i in range(N): \n",
    "        for j in range(N):\n",
    "            D[i, j] = C [i, j]\n",
    "            for k in range(N):\n",
    "                D[i, j] += A[i, k] * B[k, j]\n",
    "                \n",
    "          "
   ]
  },
  {
   "cell_type": "code",
   "execution_count": 5,
   "metadata": {},
   "outputs": [
    {
     "name": "stdout",
     "output_type": "stream",
     "text": [
      "\n",
      "CPU matmul_add:\n",
      "791 ms ± 0 ns per loop (mean ± std. dev. of 1 run, 1 loop each)\n",
      "\n"
     ]
    }
   ],
   "source": [
    "# Kernel geometry: cover the entire matrix with the grid\n",
    "N = 64\n",
    "\n",
    "# Input data \n",
    "a = np.random.rand(N, N) \n",
    "b = np.random.rand(N, N) \n",
    "c = np.random.rand(N, N) \n",
    "cpu_out = np.zeros((N, N), dtype=np.float32)\n",
    "\n",
    "\n",
    "print('\\nCPU matmul_add:')\n",
    "%timeit -o -r 1 -n 1 pass;  cpu_matmul_add(a, b, c, cpu_out)\n",
    "\n",
    "\n",
    "print('')"
   ]
  },
  {
   "cell_type": "markdown",
   "metadata": {},
   "source": [
    "### GPU naive implementation kernel"
   ]
  },
  {
   "cell_type": "code",
   "execution_count": 6,
   "metadata": {
    "slideshow": {
     "slide_type": "subslide"
    }
   },
   "outputs": [],
   "source": [
    "@cuda.jit\n",
    "def matmul_add_kernel(A, B, C, D):\n",
    "    \n",
    "    # Unique thread id on a 2d-grid\n",
    "    i, j = cuda.grid(2)           # location of current thread (i, j)\n",
    "    imax, jmax = cuda.gridsize(2) # total number of threads (I, J)\n",
    "\n",
    "    # Each thread calculates one output element: out[i,j]\n",
    "    if i < D.shape[0] and j < D.shape[1]:\n",
    "        for k in range(B.shape[0]):\n",
    "            D[i, j] += A[i,k] * B[k,j]\n",
    "        D[i, j] += C[i,j]\n",
    "            "
   ]
  },
  {
   "cell_type": "markdown",
   "metadata": {
    "slideshow": {
     "slide_type": "subslide"
    }
   },
   "source": [
    "##### 2D kernel geometry set up and random matrix decleration. "
   ]
  },
  {
   "cell_type": "code",
   "execution_count": 7,
   "metadata": {},
   "outputs": [
    {
     "name": "stdout",
     "output_type": "stream",
     "text": [
      "block_dim=(32, 32), grid_dim=(2, 2)\n",
      "total_threads=4096\n"
     ]
    }
   ],
   "source": [
    "\n",
    "\n",
    "blocksize = cuda.get_current_device().WARP_SIZE\n",
    "gridsize = (N + blocksize-1)//blocksize\n",
    "\n",
    "block_dim = (blocksize, blocksize)\n",
    "grid_dim = (gridsize, gridsize)\n",
    "\n",
    "print(f'block_dim={block_dim}, grid_dim={grid_dim}')\n",
    "print(f'total_threads={(blocksize**2) * (gridsize**2)}')\n",
    "\n"
   ]
  },
  {
   "cell_type": "markdown",
   "metadata": {},
   "source": [
    "##### Testing and comperation of numpy and cpu implementation:\n",
    "##### Let's try our simple kernel and compare it to numpy"
   ]
  },
  {
   "cell_type": "code",
   "execution_count": 8,
   "metadata": {},
   "outputs": [
    {
     "data": {
      "text/plain": [
       "array([[16.28223  , 15.488041 , 15.125814 , ..., 17.013523 , 16.98449  ,\n",
       "        15.143689 ],\n",
       "       [16.821674 , 17.227692 , 17.309969 , ..., 15.40683  , 16.033924 ,\n",
       "        14.614565 ],\n",
       "       [17.841513 , 18.137138 , 16.837236 , ..., 17.617714 , 19.809275 ,\n",
       "        16.196302 ],\n",
       "       ...,\n",
       "       [17.627274 , 16.708979 , 16.101015 , ..., 16.14629  , 17.794588 ,\n",
       "        15.0994215],\n",
       "       [17.181337 , 17.296556 , 16.811516 , ..., 16.71122  , 18.70209  ,\n",
       "        15.767479 ],\n",
       "       [15.714673 , 15.635249 , 16.658735 , ..., 14.713628 , 16.041458 ,\n",
       "        13.472644 ]], dtype=float32)"
      ]
     },
     "execution_count": 8,
     "metadata": {},
     "output_type": "execute_result"
    }
   ],
   "source": [
    "\n",
    "expected_out = np.matmul(a, b) + c\n",
    "\n",
    "out = np.zeros((N, N), dtype=np.float32)\n",
    "matmul_add_kernel[grid_dim, block_dim](a, b, c, out)\n",
    "\n",
    "# Make sure result is correct\n",
    "assert(np.allclose(out, expected_out))\n",
    "out"
   ]
  },
  {
   "cell_type": "code",
   "execution_count": 9,
   "metadata": {},
   "outputs": [
    {
     "name": "stdout",
     "output_type": "stream",
     "text": [
      "\n",
      "GPU, naive implementation:\n",
      "2.16 ms ± 8.94 µs per loop (mean ± std. dev. of 7 runs, 100 loops each)\n"
     ]
    }
   ],
   "source": [
    "\n",
    "print('\\nGPU, naive implementation:')\n",
    "%timeit matmul_add_kernel[grid_dim, block_dim](a, b, c, out); cuda.synchronize()\n"
   ]
  },
  {
   "cell_type": "markdown",
   "metadata": {
    "slideshow": {
     "slide_type": "subslide"
    }
   },
   "source": [
    "That's about 2k orders of magnitude faster! Not bad for just adding a decorator function...\n",
    "We used lots of threads and a large grid!\n",
    "But, why is this implementation still inefficient?"
   ]
  },
  {
   "cell_type": "markdown",
   "metadata": {
    "slideshow": {
     "slide_type": "fragment"
    }
   },
   "source": [
    "Both A and B will be read many times from the **slow** global memory:\n",
    "- A will be read `B.shape[1]` times\n",
    "- B will be read `A.shape[0]` times"
   ]
  },
  {
   "cell_type": "markdown",
   "metadata": {
    "slideshow": {
     "slide_type": "subslide"
    }
   },
   "source": [
    "Now we can move on to a more efficient version which takes take advantage of **shared memory** to reduce\n",
    "global memory bandwidth.\n",
    "Recall that shared memory is on-chip memory available on each streaming multiprocessor.\n",
    "It is shared only between threads of the same block (even if other blocks are running on the same SM).\n",
    "Shared memory is scarce hardware resource, in many cases limited to 48kB per block. It should be used sparingly, as a way to reduce latency of global memory."
   ]
  },
  {
   "cell_type": "markdown",
   "metadata": {
    "slideshow": {
     "slide_type": "subslide"
    }
   },
   "source": [
    "We will implement as follows:\n",
    "\n",
    "- Each thread block is responsible for computing one square sub-matrix `D_sub` of the output `D`, of shape `(blocksize,blocksize)`.\n",
    "- Each thread within the block is responsible for computing one element of `D_sub`.\n",
    "- `D_sub` is the product of two rectangular matrices: `A_sub` of shape `(block_size, A.shape[1])` which has the same row indices as `D_sub`, and `B_sub` of shape `(B.shape[0], blocksize)` which has the same column indices as `Dsub`. Then adding from his own cell from matrix `C` to the result.  \n",
    "- These two rectangular matrices are divided into as many square matrices of shape `(blocksize, blocksize)` as necessary.\n",
    "- `D_sub` is computed as the sum of the products of these square matrices. To compute this product:\n",
    "    - First we load two corresponding square matrices from global memory to shared memory with one thread loading one element of each matrix.\n",
    "    - Then each thread computes one element of the product using the shared memory.\n",
    "    - Each thread accumulates the result of each of these square products into a register and once done writes the result to global memory.\n",
    "    - Then we load square matrices from global memory of `C` matrix to shared memory with one thread loading one element of the matrix."
   ]
  },
  {
   "cell_type": "code",
   "execution_count": 10,
   "metadata": {
    "slideshow": {
     "slide_type": "subslide"
    }
   },
   "outputs": [],
   "source": [
    "@cuda.jit\n",
    "def fast_matmul_add_kernel(a, b, c, out):\n",
    "    # Define arrays in the shared memory\n",
    "    # These will hold a square block of A_sub and B_sub\n",
    "    # The size and type of the arrays must be known at compile time\n",
    "    a_sub = cuda.shared.array(shape=(blocksize, blocksize), dtype=numba.float32)\n",
    "    b_sub = cuda.shared.array(shape=(blocksize, blocksize), dtype=numba.float32)\n",
    "    c_sub = cuda.shared.array(shape=(blocksize, blocksize), dtype=numba.float32)\n",
    "\n",
    "    # Global id of current thread in a 2D threadblock: defines output location\n",
    "    x, y = cuda.grid(2)\n",
    "    \n",
    "    # Bounds check\n",
    "    if x >= out.shape[0] or y >= out.shape[1]:\n",
    "        return\n",
    "    \n",
    "    # Index of thread within it's own block\n",
    "    tx = cuda.threadIdx.x\n",
    "    ty = cuda.threadIdx.y\n",
    "    bpg = cuda.gridDim.x    # blocks per grid\n",
    "\n",
    "    # Each thread computes one element in the result matrix.\n",
    "    # The dot product is chunked into dot products of (blocksize,)-shaped vectors.\n",
    "    tmp = 0.\n",
    "    for i in range(bpg):\n",
    "        # i is the index of the current inner square block\n",
    "        \n",
    "        # Get row and col within A_sub and B_sub and do bounds check\n",
    "        b_sub_row = tx + i * blocksize\n",
    "        a_sub_col = ty + i * blocksize\n",
    "        if not (b_sub_row < b.shape[0] and a_sub_col < a.shape[1]):\n",
    "            continue\n",
    "        \n",
    "        # Preload one element from A_sub and B_sub into shared memory\n",
    "        a_sub[tx, ty] = a[x, a_sub_col]\n",
    "        b_sub[tx, ty] = b[b_sub_row, y]\n",
    "\n",
    "        # Wait for all threads in current block\n",
    "        cuda.syncthreads()\n",
    "\n",
    "        # Compute inner product between vectors, read from the shared memory\n",
    "        for j in range(blocksize):\n",
    "            tmp += a_sub[tx, j] * b_sub[j, ty]\n",
    "        \n",
    "        cuda.syncthreads()\n",
    "\n",
    "        \n",
    "    # Preload one element from C_sub into shared memory\n",
    "    c_sub[tx, ty] = c[x, y]\n",
    "    # Write to global memory\n",
    "    out[x, y] = tmp + c_sub[tx, ty]\n",
    "    "
   ]
  },
  {
   "cell_type": "markdown",
   "metadata": {
    "slideshow": {
     "slide_type": "subslide"
    }
   },
   "source": [
    "What does the `cuda.syncthreads()` call do?\n",
    "\n",
    "Why do we need the first call? And why do we need to second?"
   ]
  },
  {
   "cell_type": "markdown",
   "metadata": {
    "slideshow": {
     "slide_type": "fragment"
    }
   },
   "source": [
    "This call allows us to use a synchronization mechanism called a **barrier**, between threads within the **same** threadblock.\n",
    "\n",
    "A barrier blocks each thread until all threads reach it, at which point all threads become unblocked.\n",
    "\n",
    "- The first `syncthreads()` call is needed in order to wait for the entire `a_sub` and `b_sub` matrices to fill, since each thread loads only one element.\n",
    "- The second `syncthreads()` is necessary so that a thread will not advance to the next square sub-block. This will cause it to fetch new data into `a_sub` and `b_sub` while another thread might still need the old data."
   ]
  },
  {
   "cell_type": "markdown",
   "metadata": {
    "slideshow": {
     "slide_type": "subslide"
    }
   },
   "source": [
    "Let's test our faster matrix multiplication:"
   ]
  },
  {
   "cell_type": "code",
   "execution_count": 11,
   "metadata": {
    "slideshow": {
     "slide_type": "fragment"
    }
   },
   "outputs": [
    {
     "data": {
      "text/plain": [
       "array([[16.28223  , 15.488042 , 15.125815 , ..., 17.013521 , 16.98449  ,\n",
       "        15.143691 ],\n",
       "       [16.821676 , 17.227694 , 17.309969 , ..., 15.406833 , 16.033924 ,\n",
       "        14.614565 ],\n",
       "       [17.841515 , 18.137135 , 16.837234 , ..., 17.617718 , 19.809277 ,\n",
       "        16.1963   ],\n",
       "       ...,\n",
       "       [17.627272 , 16.708984 , 16.101013 , ..., 16.146294 , 17.794588 ,\n",
       "        15.0994215],\n",
       "       [17.181337 , 17.296555 , 16.811516 , ..., 16.711218 , 18.70209  ,\n",
       "        15.767479 ],\n",
       "       [15.714674 , 15.635251 , 16.658735 , ..., 14.713627 , 16.041458 ,\n",
       "        13.472643 ]], dtype=float32)"
      ]
     },
     "execution_count": 11,
     "metadata": {},
     "output_type": "execute_result"
    }
   ],
   "source": [
    "out = np.zeros((N, N), dtype=np.float32)\n",
    "\n",
    "fast_matmul_add_kernel[grid_dim, block_dim](a, b, c, out)\n",
    "\n",
    "# Make sure result is correct\n",
    "assert(np.allclose(out, expected_out))\n",
    "out"
   ]
  },
  {
   "cell_type": "code",
   "execution_count": 12,
   "metadata": {},
   "outputs": [
    {
     "name": "stdout",
     "output_type": "stream",
     "text": [
      "\n",
      "GPU, with shared memory:\n",
      "2.1 ms ± 26.6 µs per loop (mean ± std. dev. of 7 runs, 100 loops each)\n"
     ]
    }
   ],
   "source": [
    "\n",
    "print('\\nGPU, with shared memory:')\n",
    "%timeit fast_matmul_add_kernel[grid_dim, block_dim](a, b, c, out); cuda.synchronize()\n"
   ]
  },
  {
   "cell_type": "markdown",
   "metadata": {},
   "source": [
    "That's about 2 orders of magnitude faster from gpu naive  implementation,f for more large matrix we will see that it will improves significantly. \n",
    "Now we can benchmark the performance.\n",
    "A timer function that takes in the function to be timed and its arguments. It then defines an equivalent (lambda) function with no arguments and times it."
   ]
  },
  {
   "cell_type": "markdown",
   "metadata": {},
   "source": [
    "#### Test for the basic size 64x64"
   ]
  },
  {
   "cell_type": "code",
   "execution_count": 13,
   "metadata": {
    "slideshow": {
     "slide_type": "fragment"
    }
   },
   "outputs": [
    {
     "name": "stdout",
     "output_type": "stream",
     "text": [
      "\n",
      "CPU matmul add:\n",
      "788.40855 ms average time per run (mean of 7 runs, 1 loops each)\n",
      "\n",
      "GPU, naive implementation:\n",
      "255.57033 µs average time per run (mean of 7 runs, 10 loops each)\n",
      "\n",
      "GPU, with shared memory:\n",
      "232.20004 µs average time per run (mean of 7 runs, 10 loops each)\n",
      "\n",
      "numpy matmul add:\n",
      "68.54478 µs average time per run (mean of 7 runs, 10 loops each)\n",
      "\n"
     ]
    }
   ],
   "source": [
    "from utils import *\n",
    "\n",
    "d_a = cuda.to_device(a)\n",
    "d_b = cuda.to_device(b)\n",
    "d_c = cuda.to_device(c)\n",
    "d_out = cuda.to_device(np.zeros((N, N), dtype=np.float32))\n",
    "tmp_out = np.zeros((N, N), dtype=np.float32)\n",
    "\n",
    "\n",
    "\n",
    "numpy_func = lambda: (np.matmul(a, b, out=tmp_out) + c)   \n",
    "cpu_func = lambda: cpu_matmul_add(a, b, c, cpu_out)\n",
    "gpu_naive = lambda: matmul_add_kernel[grid_dim, block_dim](d_a, d_b, d_c, d_out); cuda.synchronize()\n",
    "gpu_fast = lambda: fast_matmul_add_kernel[grid_dim, block_dim](d_a, d_b, d_c, d_out); cuda.synchronize()\n",
    "\n",
    "default_config = (7, 10, 'µs')\n",
    "cpu_config = (7, 1, 'ms')\n",
    "\n",
    "\n",
    "functions_dict = {'NUMPY' : (numpy_func, 'numpy matmul add', *default_config),\n",
    "                 'CPU' : (cpu_func, 'CPU matmul add', *cpu_config),\n",
    "                 'GPU_NAIVE' : (gpu_naive, 'GPU, naive implementation',  *default_config),\n",
    "                 'GPU_FAST' : (gpu_fast, 'GPU, with shared memory',  *default_config),\n",
    "                 }\n",
    "\n",
    "time_measurement(*functions_dict['CPU'])\n",
    "time_measurement(*functions_dict['GPU_NAIVE'])\n",
    "time_measurement(*functions_dict['GPU_FAST'])\n",
    "time_measurement(*functions_dict['NUMPY'])\n",
    "\n",
    "print()\n",
    "\n"
   ]
  },
  {
   "cell_type": "markdown",
   "metadata": {},
   "source": [
    "# run experiments for matrix of sizes: `32x32` ,  `128x128` ,  `512x512` , `1024x1024`"
   ]
  },
  {
   "cell_type": "code",
   "execution_count": 14,
   "metadata": {},
   "outputs": [],
   "source": [
    "# run experiments\n",
    "\n",
    "N_choices = [32, 128, 512, 1024]\n",
    "\n",
    "def run_experiment(N):\n",
    "    \n",
    "    print('\\n' + '=' * 75)\n",
    "    print(f'=========== [ matrix multiplication of {N:^5d} x {N:^5d} elements ] ===========')\n",
    "    print('=' * 75)\n",
    "    blocksize = cuda.get_current_device().WARP_SIZE\n",
    "    gridsize = (N + blocksize-1)//blocksize\n",
    "\n",
    "    block_dim = (blocksize, blocksize)\n",
    "    grid_dim = (gridsize, gridsize)\n",
    "    \n",
    "    print(f'block_dim={block_dim}, grid_dim={grid_dim} , total_threads={(blocksize**2) * (gridsize**2)}')\n",
    "\n",
    "    tmp_out = np.zeros((N, N), dtype=np.float32)\n",
    "    # Input data \n",
    "    a = np.random.rand(N, N) \n",
    "    b = np.random.rand(N, N) \n",
    "    c = np.random.rand(N, N) \n",
    "    cpu_out = np.zeros((N, N), dtype=np.float32)\n",
    "\n",
    "    d_a = cuda.to_device(a)\n",
    "    d_b = cuda.to_device(b)\n",
    "    d_c = cuda.to_device(c)\n",
    "    d_out = cuda.to_device(np.zeros((N, N), dtype=np.float32))\n",
    "\n",
    "    print('\\nCPU matmul add:')\n",
    "    cpu_time = %timeit -o -r 1 -n 1 pass; cpu_matmul_add(a, b, c, cpu_out)\n",
    "    print_time(cpu_time)\n",
    "    \n",
    "\n",
    "    print('\\nnumpy matmul add:')\n",
    "    numpy_time = %timeit -o -r 5 -n 100  pass; (np.matmul(a, b, out=tmp_out) + c)\n",
    "    print_time(numpy_time)\n",
    "    \n",
    "    \n",
    "    print('\\nGPU, naive implementation:')\n",
    "    cuda_naive_time =  %timeit -o -r 5 -n 100 pass; matmul_add_kernel[grid_dim, block_dim](d_a, d_b, d_c, d_out); cuda.synchronize()\n",
    "    print_time(cuda_naive_time)\n",
    "\n",
    "    print('\\nGPU, with shared memory:')\n",
    "    cuda_fast_time =  %timeit -o -r 5 -n 100 pass; fast_matmul_add_kernel[grid_dim, block_dim](d_a, d_b, d_c, d_out); cuda.synchronize()\n",
    "    print_time(cuda_fast_time)\n",
    "    \n",
    "    return cpu_time, numpy_time, cuda_naive_time, cuda_fast_time \n",
    "\n",
    "\n",
    "    "
   ]
  },
  {
   "cell_type": "markdown",
   "metadata": {},
   "source": [
    "### Note: This step might take a while, we used save_checkpoint strategy, the final checkpoints file will be loaded instead of running training.\n",
    "### if you want to run experiment, change the `force_run` below to True.\n"
   ]
  },
  {
   "cell_type": "code",
   "execution_count": 15,
   "metadata": {},
   "outputs": [
    {
     "name": "stdout",
     "output_type": "stream",
     "text": [
      "\n",
      "===========================================================================\n",
      "=========== [ matrix multiplication of  32   x  32   elements ] ===========\n",
      "===========================================================================\n",
      "\n",
      "CPU matmul add:\n",
      "\n",
      "        Average time (ms) 28.1\n",
      "           Best time (ms) 28.1\n",
      "                 Std (ns) 0.0\n",
      "\n",
      "numpy matmul add:\n",
      "\n",
      "        Average time (µs) 16.5\n",
      "           Best time (µs) 13.1\n",
      "                 Std (µs) 3.1\n",
      "\n",
      "GPU, naive implementation:\n",
      "\n",
      "        Average time (µs) 340.4\n",
      "           Best time (µs) 325.2\n",
      "                 Std (µs) 11.1\n",
      "\n",
      "GPU, with shared memory:\n",
      "\n",
      "        Average time (µs) 299.1\n",
      "           Best time (µs) 296.2\n",
      "                 Std (µs) 5.2\n",
      "\n",
      "===========================================================================\n",
      "=========== [ matrix multiplication of  128  x  128  elements ] ===========\n",
      "===========================================================================\n",
      "\n",
      "CPU matmul add:\n",
      "\n",
      "        Average time (ms) 984.1\n",
      "           Best time (ms) 984.1\n",
      "                 Std (ns) 0.0\n",
      "\n",
      "numpy matmul add:\n",
      "\n",
      "        Average time (µs) 83.3\n",
      "           Best time (µs) 82.0\n",
      "                 Std (µs) 2.3\n",
      "\n",
      "GPU, naive implementation:\n",
      "\n",
      "        Average time (µs) 455.1\n",
      "           Best time (µs) 407.5\n",
      "                 Std (µs) 24.9\n",
      "\n",
      "GPU, with shared memory:\n",
      "\n",
      "        Average time (µs) 245.4\n",
      "           Best time (µs) 244.1\n",
      "                 Std (µs) 2.2\n",
      "\n",
      "===========================================================================\n",
      "=========== [ matrix multiplication of  512  x  512  elements ] ===========\n",
      "===========================================================================\n",
      "\n",
      "CPU matmul add:\n",
      "\n",
      "        Average time (s) 60.0\n",
      "           Best time (s) 60.0\n",
      "                 Std (ns) 0.0\n",
      "\n",
      "numpy matmul add:\n",
      "\n",
      "        Average time (ms) 3.5\n",
      "           Best time (ms) 3.5\n",
      "                 Std (µs) 11.7\n",
      "\n",
      "GPU, naive implementation:\n",
      "\n",
      "        Average time (ms) 5.5\n",
      "           Best time (ms) 5.2\n",
      "                 Std (µs) 431.4\n",
      "\n",
      "GPU, with shared memory:\n",
      "\n",
      "        Average time (ms) 2.7\n",
      "           Best time (ms) 2.7\n",
      "                 Std (µs) 1.5\n",
      "\n",
      "===========================================================================\n",
      "=========== [ matrix multiplication of 1024  x 1024  elements ] ===========\n",
      "===========================================================================\n",
      "\n",
      "CPU matmul add:\n",
      "\n",
      "        Average time (s) 465.2\n",
      "           Best time (s) 465.2\n",
      "                 Std (ns) 0.0\n",
      "\n",
      "numpy matmul add:\n",
      "\n",
      "        Average time (ms) 24.1\n",
      "           Best time (ms) 24.1\n",
      "                 Std (µs) 26.9\n",
      "\n",
      "GPU, naive implementation:\n",
      "\n",
      "        Average time (ms) 40.9\n",
      "           Best time (ms) 40.4\n",
      "                 Std (µs) 297.1\n",
      "\n",
      "GPU, with shared memory:\n",
      "\n",
      "        Average time (ms) 21.0\n",
      "           Best time (ms) 21.0\n",
      "                 Std (µs) 27.1\n"
     ]
    }
   ],
   "source": [
    "import json\n",
    "import utils \n",
    "\n",
    "force_run = False\n",
    "results_file_path = os.path.join('exp.results.out')\n",
    "\n",
    "cpu_times, numpy_times, cuda_naive_times, cuda_fast_times = [], [], [], [] \n",
    "\n",
    "\n",
    "if not force_run and os.path.isfile(results_file_path):\n",
    "\n",
    "    with open(results_file_path, 'r') as f:\n",
    "        results = json.load(f)\n",
    "        cpu_times = results['CPU']\n",
    "        numpy_times = results['NUMPY']\n",
    "        cuda_naive_times = results['GPU_NAIVE']\n",
    "        cuda_fast_times = results['GPU_FAST']\n",
    "        \n",
    "    for i, N in enumerate(N_choices):\n",
    "        print('\\n' + '=' * 75)\n",
    "        print(f'=========== [ matrix multiplication of {N:^5d} x {N:^5d} elements ] ===========')\n",
    "        print('=' * 75)\n",
    "        \n",
    "        print('\\nCPU matmul add:')\n",
    "        print_time_from_file(cpu_times, i)\n",
    "\n",
    "        print('\\nnumpy matmul add:')\n",
    "        print_time_from_file(numpy_times, i)\n",
    "\n",
    "\n",
    "        print('\\nGPU, naive implementation:')\n",
    "        print_time_from_file(cuda_naive_times, i)\n",
    "\n",
    "        print('\\nGPU, with shared memory:')\n",
    "        print_time_from_file(cuda_fast_times, i)\n",
    "\n",
    "\n",
    "else: \n",
    "    for N in N_choices:\n",
    "        cpu_time, numpy_time, cuda_naive_time, cuda_fast_time = run_experiment(N)\n",
    "        cpu_times.append(cpu_time)\n",
    "        numpy_times.append(numpy_time)\n",
    "        cuda_naive_times.append(cuda_naive_time)\n",
    "        cuda_fast_times.append(cuda_fast_time)\n",
    "\n",
    "    print('\\nCPU matmul add:')\n",
    "    print_time_from_file(cpu_times, i)\n",
    "\n",
    "    print('\\nnumpy matmul add:')\n",
    "    print_time_from_file(numpy_times, i)\n",
    "\n",
    "\n",
    "    print('\\nGPU, naive implementation:')\n",
    "    print_time_from_file(cuda_naive_times, i)\n",
    "\n",
    "    print('\\nGPU, with shared memory:')\n",
    "    print_time_from_file(cuda_fast_times, i)    \n",
    "\n",
    "    results_dict = {'CPU' : [time_result_to_dict(t) for t in cpu_times],\n",
    "                    'NUMPY' : [time_result_to_dict(t) for t in numpy_times],\n",
    "                    'GPU_NAIVE' : [time_result_to_dict(t) for t in cuda_naive_times],\n",
    "                    'GPU_FAST' : [time_result_to_dict(t) for t in cuda_fast_times],\n",
    "                     }\n",
    "    \n",
    "    with open(results_file_path , 'w') as f:\n",
    "        json.dump(results_dict, f)    \n",
    "    \n",
    "    "
   ]
  },
  {
   "cell_type": "markdown",
   "metadata": {
    "slideshow": {
     "slide_type": "subslide"
    }
   },
   "source": [
    "\n"
   ]
  },
  {
   "cell_type": "code",
   "execution_count": 16,
   "metadata": {},
   "outputs": [
    {
     "data": {
      "text/html": [
       "<style  type=\"text/css\" >\n",
       "    #T_79886832_af8a_11eb_ae71_ac1f6b89b006 tr:hover {\n",
       "          background-color: #ffff99;\n",
       "    }    #T_79886832_af8a_11eb_ae71_ac1f6b89b006  {\n",
       "          width: 1000px;\n",
       "          font-size: 16pt;\n",
       "          text-align: center;\n",
       "    }</style><table id=\"T_79886832_af8a_11eb_ae71_ac1f6b89b006\" ><thead>    <tr>        <th class=\"blank level0\" ></th>        <th class=\"col_heading level0 col0\" >CPU</th>        <th class=\"col_heading level0 col1\" >numpy</th>        <th class=\"col_heading level0 col2\" >GPU, naive</th>        <th class=\"col_heading level0 col3\" >GPU, fast</th>    </tr></thead><tbody>\n",
       "                <tr>\n",
       "                        <th id=\"T_79886832_af8a_11eb_ae71_ac1f6b89b006level0_row0\" class=\"row_heading level0 row0\" > 32   x  32  </th>\n",
       "                        <td id=\"T_79886832_af8a_11eb_ae71_ac1f6b89b006row0_col0\" class=\"data row0 col0\" >28.1 (ms)</td>\n",
       "                        <td id=\"T_79886832_af8a_11eb_ae71_ac1f6b89b006row0_col1\" class=\"data row0 col1\" >16.5 (µs)</td>\n",
       "                        <td id=\"T_79886832_af8a_11eb_ae71_ac1f6b89b006row0_col2\" class=\"data row0 col2\" >340.4 (µs)</td>\n",
       "                        <td id=\"T_79886832_af8a_11eb_ae71_ac1f6b89b006row0_col3\" class=\"data row0 col3\" >299.1 (µs)</td>\n",
       "            </tr>\n",
       "            <tr>\n",
       "                        <th id=\"T_79886832_af8a_11eb_ae71_ac1f6b89b006level0_row1\" class=\"row_heading level0 row1\" > 128  x  128 </th>\n",
       "                        <td id=\"T_79886832_af8a_11eb_ae71_ac1f6b89b006row1_col0\" class=\"data row1 col0\" >984.1 (ms)</td>\n",
       "                        <td id=\"T_79886832_af8a_11eb_ae71_ac1f6b89b006row1_col1\" class=\"data row1 col1\" >83.3 (µs)</td>\n",
       "                        <td id=\"T_79886832_af8a_11eb_ae71_ac1f6b89b006row1_col2\" class=\"data row1 col2\" >455.1 (µs)</td>\n",
       "                        <td id=\"T_79886832_af8a_11eb_ae71_ac1f6b89b006row1_col3\" class=\"data row1 col3\" >245.4 (µs)</td>\n",
       "            </tr>\n",
       "            <tr>\n",
       "                        <th id=\"T_79886832_af8a_11eb_ae71_ac1f6b89b006level0_row2\" class=\"row_heading level0 row2\" > 512  x  512 </th>\n",
       "                        <td id=\"T_79886832_af8a_11eb_ae71_ac1f6b89b006row2_col0\" class=\"data row2 col0\" >60.0 (s)</td>\n",
       "                        <td id=\"T_79886832_af8a_11eb_ae71_ac1f6b89b006row2_col1\" class=\"data row2 col1\" >3.5 (ms)</td>\n",
       "                        <td id=\"T_79886832_af8a_11eb_ae71_ac1f6b89b006row2_col2\" class=\"data row2 col2\" >5.5 (ms)</td>\n",
       "                        <td id=\"T_79886832_af8a_11eb_ae71_ac1f6b89b006row2_col3\" class=\"data row2 col3\" >2.7 (ms)</td>\n",
       "            </tr>\n",
       "            <tr>\n",
       "                        <th id=\"T_79886832_af8a_11eb_ae71_ac1f6b89b006level0_row3\" class=\"row_heading level0 row3\" >1024  x 1024 </th>\n",
       "                        <td id=\"T_79886832_af8a_11eb_ae71_ac1f6b89b006row3_col0\" class=\"data row3 col0\" >465.2 (s)</td>\n",
       "                        <td id=\"T_79886832_af8a_11eb_ae71_ac1f6b89b006row3_col1\" class=\"data row3 col1\" >24.1 (ms)</td>\n",
       "                        <td id=\"T_79886832_af8a_11eb_ae71_ac1f6b89b006row3_col2\" class=\"data row3 col2\" >40.9 (ms)</td>\n",
       "                        <td id=\"T_79886832_af8a_11eb_ae71_ac1f6b89b006row3_col3\" class=\"data row3 col3\" >21.0 (ms)</td>\n",
       "            </tr>\n",
       "    </tbody></table>"
      ],
      "text/plain": [
       "<pandas.io.formats.style.Styler at 0x7ff96077f640>"
      ]
     },
     "execution_count": 16,
     "metadata": {},
     "output_type": "execute_result"
    }
   ],
   "source": [
    "import utils \n",
    "import pandas as pd\n",
    "from IPython.display import display, HTML\n",
    "\n",
    "\n",
    "df = get_summary_table(N_choices, cpu_times, numpy_times, cuda_naive_times, cuda_fast_times)\n",
    "\n",
    "def hover(hover_color=\"#ffff99\"):\n",
    "    return dict(selector=\"tr:hover\", props=[(\"background-color\", \"%s\" % hover_color)])\n",
    "\n",
    "styles = [hover(), dict(props=[('width', '1000px'), (\"font-size\", \"16pt\"),(\"text-align\", \"center\")])]\n",
    "html = (df.style.set_table_styles(styles))\n",
    "html\n",
    "\n"
   ]
  },
  {
   "cell_type": "code",
   "execution_count": 17,
   "metadata": {},
   "outputs": [
    {
     "data": {
      "image/png": "[encoded data removed]",
      "text/plain": [
       "<Figure size 864x576 with 1 Axes>"
      ]
     },
     "metadata": {
      "needs_background": "light"
     },
     "output_type": "display_data"
    }
   ],
   "source": [
    "    \n",
    "plt_results(N_choices, cpu_times, numpy_times, cuda_naive_times, cuda_fast_times, to_scale = 'µs')\n"
   ]
  },
  {
   "cell_type": "markdown",
   "metadata": {},
   "source": [
    "## Summary"
   ]
  },
  {
   "cell_type": "markdown",
   "metadata": {},
   "source": [
    "- CUDA provides a very powerful framework for easily writing highly scalable multithreaded code.\n",
    "- Once we have the right mental model about how it works, we can leverage the power of GPUs for performing arbitrary computation.\n",
    "- Using `numba`, we can do this directly in Python, and even iterate implementing our GPU code interactively within a jupyter notebook.\n",
    "- As a bonus, we learned how to accelerate any numerical python function with `numba`, and squeeze out extra performance gains even without a GPU.\n",
    "\n",
    "- As we can see, performing the same operation on a GPU gives us a speed-up of 70 times as on CPU.\n",
    "  This was still a small computation. For large scale computations, GPUs give us speed-ups of a few orders of magnitude.\n",
    "\n",
    "- For large scale computations, GPUs give us speed-ups even better than `numpy` !"
   ]
  },
  {
   "cell_type": "code",
   "execution_count": null,
   "metadata": {},
   "outputs": [],
   "source": []
  },
  {
   "cell_type": "markdown",
   "metadata": {},
   "source": [
    "## Thanks!"
   ]
  }
 ],
 "metadata": {
  "celltoolbar": "Slideshow",
  "kernelspec": {
   "display_name": "Python 3 (ipykernel)",
   "language": "python",
   "name": "python3"
  },
  "language_info": {
   "codemirror_mode": {
    "name": "ipython",
    "version": 3
   },
   "file_extension": ".py",
   "mimetype": "text/x-python",
   "name": "python",
   "nbconvert_exporter": "python",
   "pygments_lexer": "ipython3",
   "version": "3.8.12"
  },
  "rise": {
   "scroll": true
  }
 },
 "nbformat": 4,
 "nbformat_minor": 4
}
